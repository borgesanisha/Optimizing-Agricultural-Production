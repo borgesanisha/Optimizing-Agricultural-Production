{
 "cells": [
  {
   "cell_type": "code",
   "execution_count": null,
   "metadata": {},
   "outputs": [],
   "source": [
    "#for manipulations\n",
    "import numpy as np\n",
    "import pandas as pd\n",
    "\n",
    "#for data visualization\n",
    "import matplotlib.pyplot as plt\n",
    "import seaborn as sns\n",
    "\n",
    "#for interactivity\n",
    "from ipywidgets import interact"
   ]
  },
  {
   "cell_type": "code",
   "execution_count": null,
   "metadata": {},
   "outputs": [],
   "source": [
    "data = pd.read_csv('data.csv')"
   ]
  },
  {
   "cell_type": "code",
   "execution_count": null,
   "metadata": {},
   "outputs": [],
   "source": [
    "print('Shape of the dataset: ', data.shape)"
   ]
  },
  {
   "cell_type": "code",
   "execution_count": null,
   "metadata": {},
   "outputs": [],
   "source": [
    "data.head()"
   ]
  },
  {
   "cell_type": "code",
   "execution_count": null,
   "metadata": {},
   "outputs": [],
   "source": [
    "data.isnull().sum()"
   ]
  },
  {
   "cell_type": "code",
   "execution_count": null,
   "metadata": {},
   "outputs": [],
   "source": [
    "data['label'].value_counts()"
   ]
  },
  {
   "cell_type": "code",
   "execution_count": null,
   "metadata": {},
   "outputs": [],
   "source": [
    "#Summary of all crops\n",
    "\n",
    "print('Average ratio of Nitrogen in the soil: {0:.2f}'.format(data['N'].mean()))\n",
    "print('Average ratio of Phosphorus in the soil: {0:.2f}'.format(data['P'].mean()))\n",
    "print('Average ratio of Potassium in the soil: {0:.2f}'.format(data['K'].mean()))\n",
    "print('Average ratio of temperature in the soil: {0:.2f}'.format(data['temperature'].mean()))\n",
    "print('Average ratio of humidity in the soil: {0:.2f}'.format(data['humidity'].mean()))\n",
    "print('Average ratio of ph in the soil: {0:.2f}'.format(data['ph'].mean()))\n",
    "print('Average ratio of rainfall in the soil: {0:.2f}'.format(data['rainfall'].mean()))"
   ]
  },
  {
   "cell_type": "code",
   "execution_count": null,
   "metadata": {},
   "outputs": [],
   "source": [
    "#Summary statistics for each of the crops\n",
    "\n",
    "@interact\n",
    "def summary(crops = list(data['label'].value_counts().index)):\n",
    "    x = data[data['label'] == crops]\n",
    "    print('............................................................')\n",
    "    print('Statistics for Nitrogen')\n",
    "    print('Minimum nitrogen required: {0:.2f}'.format(x['N'].min()))\n",
    "    print('Average nitrogen required: {0:.2f}'.format(x['N'].mean()))\n",
    "    print('Maximum nitrogen required: {0:.2f}'.format(x['N'].max()))\n",
    "    print('............................................................')\n",
    "    print('Statistics for Phosphorus')\n",
    "    print('Minimum phosphorus required: {0:.2f}'.format(x['P'].min()))\n",
    "    print('Average phosphorus required: {0:.2f}'.format(x['P'].mean()))\n",
    "    print('Maximum phosphorus required: {0:.2f}'.format(x['P'].max()))\n",
    "    print('............................................................')\n",
    "    print('Statistics for Potassium')\n",
    "    print('Minimum potassium required: {0:.2f}'.format(x['K'].min()))\n",
    "    print('Average potassium required: {0:.2f}'.format(x['K'].mean()))\n",
    "    print('Maximum potassium required: {0:.2f}'.format(x['K'].max()))\n",
    "    print('............................................................')\n",
    "    print('Statistics for temperature')\n",
    "    print('Minimum temperature required: {0:.2f}'.format(x['temperature'].min()))\n",
    "    print('Average temperature required: {0:.2f}'.format(x['temperature'].mean()))\n",
    "    print('Maximum temperature required: {0:.2f}'.format(x['temperature'].max()))\n",
    "    print('............................................................')\n",
    "    print('Statistics for humidity')\n",
    "    print('Minimum humidity required: {0:.2f}'.format(x['humidity'].min()))\n",
    "    print('Average humidity required: {0:.2f}'.format(x['humidity'].mean()))\n",
    "    print('Maximum humidity required: {0:.2f}'.format(x['humidity'].max()))\n",
    "    print('............................................................')\n",
    "    print('Statistics for ph')\n",
    "    print('Minimum ph required: {0:.2f}'.format(x['ph'].min()))\n",
    "    print('Average ph required: {0:.2f}'.format(x['ph'].mean()))\n",
    "    print('Maximum ph required: {0:.2f}'.format(x['ph'].max()))\n",
    "    print('............................................................')\n",
    "    print('Statistics for rainfall')\n",
    "    print('Minimum rainfall required: {0:.2f}'.format(x['rainfall'].min()))\n",
    "    print('Average rainfall required: {0:.2f}'.format(x['rainfall'].mean()))\n",
    "    print('Maximum rainfall required: {0:.2f}'.format(x['rainfall'].max()))"
   ]
  },
  {
   "cell_type": "code",
   "execution_count": null,
   "metadata": {},
   "outputs": [],
   "source": [
    "#Compare average requirements for each crops with average conditions\n",
    "\n",
    "@interact\n",
    "def compare(conditions = ['N', 'P', 'K', 'temperature', 'ph', 'humidity', 'rainfall']):\n",
    "    print('Average value for', conditions, 'is {0:.2f}'.format(data[conditions].mean()))\n",
    "    print('...............................................................')\n",
    "    print('Rice: {0:.2f}'.format(data[(data['label'] == 'rice')][conditions].mean()))\n",
    "    print('Pomegranate: {0:.2f}'.format(data[(data['label'] == 'pomegranate')][conditions].mean()))\n",
    "    print('Chickpea: {0:.2f}'.format(data[(data['label'] == 'chickpea')][conditions].mean()))\n",
    "    print('Banana: {0:.2f}'.format(data[(data['label'] == 'banana')][conditions].mean()))\n",
    "    print('Blackgram: {0:.2f}'.format(data[(data['label'] == 'blackgram')][conditions].mean()))\n",
    "    print('Lentil: {0:.2f}'.format(data[(data['label'] == 'lentil')][conditions].mean()))\n",
    "    print('Watermelon: {0:.2f}'.format(data[(data['label'] == 'watermelon')][conditions].mean()))\n",
    "    print('Grapes: {0:.2f}'.format(data[(data['label'] == 'grapes')][conditions].mean()))\n",
    "    print('Kidneybeans: {0:.2f}'.format(data[(data['label'] == 'kidneybeans')][conditions].mean()))\n",
    "    print('Orange: {0:.2f}'.format(data[(data['label'] == 'orange')][conditions].mean()))\n",
    "    print('Jute: {0:.2f}'.format(data[(data['label'] == 'jute')][conditions].mean()))\n",
    "    print('Mango: {0:.2f}'.format(data[(data['label'] == 'mango')][conditions].mean()))\n",
    "    print('Papaya: {0:.2f}'.format(data[(data['label'] == 'papaya')][conditions].mean()))\n",
    "    print('Apple: {0:.2f}'.format(data[(data['label'] == 'apple')][conditions].mean()))\n",
    "    print('Muskmelon: {0:.2f}'.format(data[(data['label'] == 'muskmelon')][conditions].mean()))\n",
    "    print('Mungbean: {0:.2f}'.format(data[(data['label'] == 'mungbean')][conditions].mean()))\n",
    "    print('Maize: {0:.2f}'.format(data[(data['label'] == 'maize')][conditions].mean()))\n",
    "    print('Pigeonpeas: {0:.2f}'.format(data[(data['label'] == 'pigeonpeas')][conditions].mean()))\n",
    "    print('Coffee: {0:.2f}'.format(data[(data['label'] == 'coffee')][conditions].mean()))\n",
    "    print('Coconut: {0:.2f}'.format(data[(data['label'] == 'coconut')][conditions].mean()))\n",
    "    print('Mothbeans: {0:.2f}'.format(data[(data['label'] == 'mothbeans')][conditions].mean()))\n",
    "    print('Cotton: {0:.2f}'.format(data[(data['label'] == 'cotton')][conditions].mean()))"
   ]
  },
  {
   "cell_type": "code",
   "execution_count": null,
   "metadata": {},
   "outputs": [],
   "source": [
    "@interact\n",
    "def compare(conditions = ['N', 'P', 'K', 'temperature', 'ph', 'humidity', 'rainfall']):\n",
    "    print('Crops which require greater than average', conditions, '\\n')\n",
    "    print(data[data[conditions] > data[conditions].mean()]['label'].unique())\n",
    "    print('.....................................')\n",
    "    print('Crops which require less than average', conditions, '\\n')\n",
    "    print(data[data[conditions] <= data[conditions].mean()]['label'].unique())"
   ]
  },
  {
   "cell_type": "code",
   "execution_count": null,
   "metadata": {},
   "outputs": [],
   "source": [
    "print('Some interesting patterns')\n",
    "print('..........................')\n",
    "print('Crops which require high ratio of nitrogen content in soil', data[data['N'] > 120]['label'].unique())\n",
    "print('Crops which require high ratio of phosporus content in soil', data[data['P'] > 100]['label'].unique())\n",
    "print('Crops which require high ratio of potassium content in soil', data[data['K'] > 200]['label'].unique())\n",
    "print('Crops which require high ratio of high rainfall', data[data['rainfall'] > 200]['label'].unique())\n",
    "print('Crops which require low temperature', data[data['temperature'] < 10]['label'].unique())\n",
    "print('Crops which require high temperature', data[data['temperature'] > 40]['label'].unique())\n",
    "print('Crops which require low humidity', data[data['humidity'] < 20]['label'].unique())\n",
    "print('Crops which require low ph', data[data['ph'] < 4]['label'].unique())\n",
    "print('Crops which require high ph', data[data['ph'] > 9]['label'].unique())"
   ]
  },
  {
   "cell_type": "code",
   "execution_count": null,
   "metadata": {},
   "outputs": [],
   "source": [
    "#Which crops can be grown in summer season, winter season, rainy season\n",
    "\n",
    "print('Summer crops')\n",
    "print(data[(data['temperature'] > 30) & (data['humidity'] > 50)]['label'].unique())\n",
    "print('...................................................')\n",
    "print('Winter crops')\n",
    "print(data[(data['temperature'] < 20) & (data['humidity'] > 30)]['label'].unique())\n",
    "print('...................................................')\n",
    "print('Rainy crops')\n",
    "print(data[(data['rainfall'] > 200) & (data['humidity'] > 50)]['label'].unique())"
   ]
  },
  {
   "cell_type": "code",
   "execution_count": null,
   "metadata": {},
   "outputs": [],
   "source": [
    "plt.subplot(2, 4, 3)\n",
    "sns.distplot(data['K'], color = 'darkblue')\n",
    "plt.xlabel('Ratio of potassium', fontsize = 12)\n",
    "plt.grid()\n",
    "\n",
    "plt.subplot(2, 4, 4)\n",
    "sns.distplot(data['temperature'], color = 'black')\n",
    "plt.xlabel('Temperature', fontsize = 12)\n",
    "plt.grid()\n",
    "\n",
    "plt.subplot(2, 4, 5)\n",
    "sns.distplot(data['rainfall'], color = 'grey')\n",
    "plt.xlabel('Rainfall', fontsize = 12)\n",
    "plt.grid()\n",
    "\n",
    "plt.subplot(2, 4, 6)\n",
    "sns.distplot(data['humidity'], color = 'lightgreen')\n",
    "plt.xlabel('Humidity', fontsize = 12)\n",
    "plt.grid()\n",
    "\n",
    "plt.subplot(2, 4, 7)\n",
    "sns.distplot(data['ph'], color = 'darkgreen')\n",
    "plt.xlabel('pH level', fontsize = 12)\n",
    "plt.grid()\n",
    "\n",
    "plt.suptitle('Distribution for agricultural conditions', fontsize = 20)\n",
    "plt.show()"
   ]
  },
  {
   "cell_type": "code",
   "execution_count": null,
   "metadata": {},
   "outputs": [],
   "source": [
    "from sklearn.cluster import KMeans\n",
    "\n",
    "#removing labels column\n",
    "x = data.drop(['label'], axis = 1)\n",
    "\n",
    "#selecting all values from data\n",
    "x = x.values\n",
    "\n",
    "#checking shape\n",
    "print(x.shape)"
   ]
  },
  {
   "cell_type": "code",
   "execution_count": null,
   "metadata": {},
   "outputs": [],
   "source": [
    "#Determine optimum number of clusters within the dataset\n",
    "\n",
    "plt.rcParams['figure.figsize'] = (10, 4)\n",
    "\n",
    "wcss = []\n",
    "\n",
    "for i in range (1, 11):\n",
    "    km = KMeans(n_clusters = i, init = 'k-means++', max_iter = 300, n_init = 10, random_state = 0)\n",
    "    km.fit(x)\n",
    "    wcss.append(km.inertia_)\n",
    "    \n",
    "plt. plot(range(1,11), wcss)\n",
    "plt.title('The Elbow Method', fontsize = 20)\n",
    "plt.xlabel('No. of clusters')\n",
    "plt.ylabel('wcss')\n",
    "plt.show()"
   ]
  },
  {
   "cell_type": "code",
   "execution_count": null,
   "metadata": {},
   "outputs": [],
   "source": [
    "#Implementation of K means algorithm to perform clustering analysis\n",
    "km = KMeans(n_clusters = 4, init = 'k-means++', max_iter = 300, n_init = 10, random_state = 0)\n",
    "y_means = km.fit_predict(x)\n",
    "\n",
    "#Results\n",
    "a = data['label']\n",
    "y_means = pd.DataFrame(y_means)\n",
    "z = pd.concat([y_means, a], axis = 1)\n",
    "z = z.rename(columns = {0 : 'cluster'})\n",
    "\n",
    "#Clusters of each crops\n",
    "print('Lets check the results after applying the K means clustering analysis \\n')\n",
    "print('Crops in first cluster:', z[z['cluster'] == 0]['label'].unique())\n",
    "print('.......................................')\n",
    "print('Crops in second cluster:', z[z['cluster'] == 1]['label'].unique())\n",
    "print('.......................................')\n",
    "print('Crops in third cluster:', z[z['cluster'] == 2]['label'].unique())\n",
    "print('.......................................')\n",
    "print('Crops in fourth cluster:', z[z['cluster'] == 3]['label'].unique())"
   ]
  },
  {
   "cell_type": "code",
   "execution_count": null,
   "metadata": {},
   "outputs": [],
   "source": [
    "#Split dataset for predictive modelling\n",
    "\n",
    "y = data['label']\n",
    "x = data.drop(['label'], axis = 1)\n",
    " \n",
    "print('Shape of x:', x.shape)\n",
    "print('Shape of y:', y.shape)"
   ]
  },
  {
   "cell_type": "code",
   "execution_count": null,
   "metadata": {},
   "outputs": [],
   "source": [
    "#Create training and testing sets for validation of results\n",
    "\n",
    "from sklearn.model_selection import train_test_split\n",
    "\n",
    "x_train, x_test, y_train, y_test = train_test_split(x, y, test_size = 0.2, random_state = 0)\n",
    "\n",
    "print('The shape of x train:', x_train.shape)\n",
    "print('The shape of x test:', x_test.shape)\n",
    "print('The shape of y train:', y_train.shape)\n",
    "print('The shape of y test:', y_test.shape)"
   ]
  },
  {
   "cell_type": "code",
   "execution_count": null,
   "metadata": {},
   "outputs": [],
   "source": [
    "#Create predictive model\n",
    "\n",
    "from sklearn.linear_model import LogisticRegression\n",
    "\n",
    "model = LogisticRegression()\n",
    "model.fit(x_train, y_train)\n",
    "y_pred = model.predict(x_test)"
   ]
  },
  {
   "cell_type": "code",
   "execution_count": null,
   "metadata": {},
   "outputs": [],
   "source": [
    "#Evaluation of model performance\n",
    "from sklearn.metrics import confusion_matrix\n",
    "\n",
    "plt.rcParams['figure.figsize'] = (10, 10)\n",
    "cm = confusion_matrix(y_test, y_pred)\n",
    "sns.heatmap(cm, annot = True, cmap = 'Wistia')\n",
    "plt.title('Confusion matrix for logistic regression', fontsize = 15)\n",
    "plt.show()"
   ]
  },
  {
   "cell_type": "code",
   "execution_count": null,
   "metadata": {},
   "outputs": [],
   "source": [
    "#Classification report\n",
    "from sklearn.metrics import classification_report\n",
    "\n",
    "cr = classification_report(y_test, y_pred)\n",
    "print(cr)"
   ]
  },
  {
   "cell_type": "code",
   "execution_count": null,
   "metadata": {},
   "outputs": [],
   "source": [
    "#Head of the dataset\n",
    "\n",
    "data.head()"
   ]
  },
  {
   "cell_type": "code",
   "execution_count": null,
   "metadata": {},
   "outputs": [],
   "source": [
    "prediction = model.predict((np.array([[90,\n",
    "                                      40,\n",
    "                                      40,\n",
    "                                      20,\n",
    "                                      80,\n",
    "                                       7,\n",
    "                                      200]])))\n",
    "\n",
    "print('The suggested crop for given clima', prediction)"
   ]
  },
  {
   "cell_type": "code",
   "execution_count": null,
   "metadata": {},
   "outputs": [],
   "source": []
  },
  {
   "cell_type": "code",
   "execution_count": null,
   "metadata": {},
   "outputs": [],
   "source": []
  }
 ],
 "metadata": {
  "kernelspec": {
   "display_name": "Python 3",
   "language": "python",
   "name": "python3"
  },
  "language_info": {
   "codemirror_mode": {
    "name": "ipython",
    "version": 3
   },
   "file_extension": ".py",
   "mimetype": "text/x-python",
   "name": "python",
   "nbconvert_exporter": "python",
   "pygments_lexer": "ipython3",
   "version": "3.7.1"
  }
 },
 "nbformat": 4,
 "nbformat_minor": 2
}
